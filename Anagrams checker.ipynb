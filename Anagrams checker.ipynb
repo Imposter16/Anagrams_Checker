{
 "cells": [
  {
   "cell_type": "code",
   "execution_count": 1,
   "id": "9441acd1",
   "metadata": {},
   "outputs": [],
   "source": [
    "def is_anagram(str1, str2):\n",
    "    # code for Remove any spaces and convert both strings to lowercase\n",
    "    str1 = str1.replace(\" \", \"\").lower()\n",
    "    str2 = str2.replace(\" \", \"\").lower()\n",
    "\n",
    "    # Checking if the lengths of both strings are the same\n",
    "    if len(str1) != len(str2):\n",
    "        return False\n",
    "\n",
    "    # Sort the characters in both strings and compare\n",
    "    return sorted(str1) == sorted(str2)"
   ]
  },
  {
   "cell_type": "code",
   "execution_count": 2,
   "id": "f3a9452d",
   "metadata": {},
   "outputs": [
    {
     "name": "stdout",
     "output_type": "stream",
     "text": [
      "True\n",
      "False\n"
     ]
    }
   ],
   "source": [
    "print(is_anagram(\"listen\", \"silent\")) \n",
    "print(is_anagram(\"hello\", \"world\"))    "
   ]
  },
  {
   "cell_type": "code",
   "execution_count": 3,
   "id": "111dae42",
   "metadata": {},
   "outputs": [],
   "source": [
    "# Hece, the above example are proves the desired output given in the question"
   ]
  }
 ],
 "metadata": {
  "kernelspec": {
   "display_name": "Python 3 (ipykernel)",
   "language": "python",
   "name": "python3"
  },
  "language_info": {
   "codemirror_mode": {
    "name": "ipython",
    "version": 3
   },
   "file_extension": ".py",
   "mimetype": "text/x-python",
   "name": "python",
   "nbconvert_exporter": "python",
   "pygments_lexer": "ipython3",
   "version": "3.11.3"
  }
 },
 "nbformat": 4,
 "nbformat_minor": 5
}
